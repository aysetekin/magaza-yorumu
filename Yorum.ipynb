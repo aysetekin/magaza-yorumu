{
  "nbformat": 4,
  "nbformat_minor": 0,
  "metadata": {
    "colab": {
      "provenance": [],
      "gpuType": "T4"
    },
    "kernelspec": {
      "name": "python3",
      "display_name": "Python 3"
    },
    "language_info": {
      "name": "python"
    },
    "accelerator": "GPU"
  },
  "cells": [
    {
      "cell_type": "markdown",
      "source": [
        "**Kimlik Doğrulama**"
      ],
      "metadata": {
        "id": "xlwQCAK1Rosv"
      }
    },
    {
      "cell_type": "code",
      "execution_count": null,
      "metadata": {
        "colab": {
          "base_uri": "https://localhost:8080/"
        },
        "id": "5lXFBP4e1rGw",
        "outputId": "ee43214e-7d9d-433a-801c-057cc6995c1e"
      },
      "outputs": [
        {
          "output_type": "stream",
          "name": "stdout",
          "text": [
            "Mounted at /content/drive\n"
          ]
        }
      ],
      "source": [
        "from google.colab import drive\n",
        "drive.mount(\"/content/drive\")\n"
      ]
    },
    {
      "cell_type": "markdown",
      "source": [
        "**Lokalizasyon (Yerelleştirme) İşlemi**"
      ],
      "metadata": {
        "id": "-g_1fnZLRtBG"
      }
    },
    {
      "cell_type": "code",
      "source": [
        "!mkdir -p drive\n",
        "!ls"
      ],
      "metadata": {
        "colab": {
          "base_uri": "https://localhost:8080/"
        },
        "id": "E-PE9QeU3VLm",
        "outputId": "aaddb97d-d34d-43e9-867b-537963510f1f"
      },
      "execution_count": null,
      "outputs": [
        {
          "output_type": "stream",
          "name": "stdout",
          "text": [
            "drive  sample_data\n"
          ]
        }
      ]
    },
    {
      "cell_type": "markdown",
      "source": [
        "**Dosya Yerini Belirleme İşlemi**"
      ],
      "metadata": {
        "id": "Q1AfZ3PoR2_L"
      }
    },
    {
      "cell_type": "code",
      "source": [
        "import os\n",
        "os.chdir(\"/content/drive/MyDrive/DDI\")\n",
        "!pwd\n"
      ],
      "metadata": {
        "colab": {
          "base_uri": "https://localhost:8080/"
        },
        "id": "T1de5pSm3e7t",
        "outputId": "eaa46a34-bbb2-4e97-8277-ce71bd4e0f22"
      },
      "execution_count": null,
      "outputs": [
        {
          "output_type": "stream",
          "name": "stdout",
          "text": [
            "/content/drive/MyDrive/DDI\n"
          ]
        }
      ]
    },
    {
      "cell_type": "markdown",
      "source": [
        "**Gerekli Kütüphanelerin Yüklenmesi**"
      ],
      "metadata": {
        "id": "bQjaZp-PqFyl"
      }
    },
    {
      "cell_type": "code",
      "source": [
        "import numpy as np\n",
        "import pandas as pd\n",
        "import matplotlib.pyplot as plt\n",
        "from textblob import TextBlob\n",
        "from sklearn import model_selection, preprocessing, linear_model, naive_bayes, metrics\n",
        "from sklearn.neighbors import KNeighborsClassifier\n",
        "from sklearn.feature_extraction.text import TfidfVectorizer, CountVectorizer\n",
        "from sklearn import decomposition, ensemble\n",
        "from warnings import filterwarnings\n",
        "import matplotlib.pyplot as plt\n",
        "import nltk\n",
        "import pandas as pd\n",
        "from textblob import Word, TextBlob\n",
        "from wordcloud import WordCloud\n",
        "#!pip install xgboost\n",
        "import pandas, xgboost, numpy, textblob, string\n",
        "from keras.preprocessing import text, sequence\n",
        "from keras import layers, models, optimizers\n",
        "from warnings import filterwarnings\n",
        "filterwarnings('ignore')"
      ],
      "metadata": {
        "id": "6rZcCWkU6w7y"
      },
      "execution_count": null,
      "outputs": []
    },
    {
      "cell_type": "markdown",
      "source": [
        "**Verilerin Yüklenmesi**"
      ],
      "metadata": {
        "id": "sRp-gY0UqLaa"
      }
    },
    {
      "cell_type": "code",
      "source": [
        "verisetiDf=pd.read_csv(\"/content/drive/MyDrive/DDI/Final/magaza_yorumlari_duygu_analizi.csv\", encoding=\"utf-16\")\n",
        "print(verisetiDf.shape)"
      ],
      "metadata": {
        "id": "LbJdTcLP7OF-",
        "colab": {
          "base_uri": "https://localhost:8080/"
        },
        "outputId": "c0c49853-c42e-45c2-f1fe-65cbede5d64c"
      },
      "execution_count": null,
      "outputs": [
        {
          "output_type": "stream",
          "name": "stdout",
          "text": [
            "(11429, 2)\n"
          ]
        }
      ]
    },
    {
      "cell_type": "code",
      "source": [
        "verisetiDf.head(5)"
      ],
      "metadata": {
        "id": "U_SYezShWZ-k",
        "colab": {
          "base_uri": "https://localhost:8080/",
          "height": 206
        },
        "outputId": "6c6fd6b1-8206-4710-c2b8-4ab9a6e0fe67"
      },
      "execution_count": null,
      "outputs": [
        {
          "output_type": "execute_result",
          "data": {
            "text/plain": [
              "                                               Görüş     Durum\n",
              "0  ses kalitesi ve ergonomisi rezalet, sony olduğ...   Olumsuz\n",
              "1                         hizli teslimat tesekkürler  Tarafsız\n",
              "2  ses olayı süper....gece çalıştır sıkıntı yok.....    Olumlu\n",
              "3  geldi bigün kullandık hemen bozoldu hiçtavsiye...   Olumsuz\n",
              "4  Kulaklığın sesi kaliteli falan değil. Aleti öv...   Olumsuz"
            ],
            "text/html": [
              "\n",
              "  <div id=\"df-d435ffae-4333-434b-a814-d200727d553b\" class=\"colab-df-container\">\n",
              "    <div>\n",
              "<style scoped>\n",
              "    .dataframe tbody tr th:only-of-type {\n",
              "        vertical-align: middle;\n",
              "    }\n",
              "\n",
              "    .dataframe tbody tr th {\n",
              "        vertical-align: top;\n",
              "    }\n",
              "\n",
              "    .dataframe thead th {\n",
              "        text-align: right;\n",
              "    }\n",
              "</style>\n",
              "<table border=\"1\" class=\"dataframe\">\n",
              "  <thead>\n",
              "    <tr style=\"text-align: right;\">\n",
              "      <th></th>\n",
              "      <th>Görüş</th>\n",
              "      <th>Durum</th>\n",
              "    </tr>\n",
              "  </thead>\n",
              "  <tbody>\n",
              "    <tr>\n",
              "      <th>0</th>\n",
              "      <td>ses kalitesi ve ergonomisi rezalet, sony olduğ...</td>\n",
              "      <td>Olumsuz</td>\n",
              "    </tr>\n",
              "    <tr>\n",
              "      <th>1</th>\n",
              "      <td>hizli teslimat tesekkürler</td>\n",
              "      <td>Tarafsız</td>\n",
              "    </tr>\n",
              "    <tr>\n",
              "      <th>2</th>\n",
              "      <td>ses olayı süper....gece çalıştır sıkıntı yok.....</td>\n",
              "      <td>Olumlu</td>\n",
              "    </tr>\n",
              "    <tr>\n",
              "      <th>3</th>\n",
              "      <td>geldi bigün kullandık hemen bozoldu hiçtavsiye...</td>\n",
              "      <td>Olumsuz</td>\n",
              "    </tr>\n",
              "    <tr>\n",
              "      <th>4</th>\n",
              "      <td>Kulaklığın sesi kaliteli falan değil. Aleti öv...</td>\n",
              "      <td>Olumsuz</td>\n",
              "    </tr>\n",
              "  </tbody>\n",
              "</table>\n",
              "</div>\n",
              "    <div class=\"colab-df-buttons\">\n",
              "\n",
              "  <div class=\"colab-df-container\">\n",
              "    <button class=\"colab-df-convert\" onclick=\"convertToInteractive('df-d435ffae-4333-434b-a814-d200727d553b')\"\n",
              "            title=\"Convert this dataframe to an interactive table.\"\n",
              "            style=\"display:none;\">\n",
              "\n",
              "  <svg xmlns=\"http://www.w3.org/2000/svg\" height=\"24px\" viewBox=\"0 -960 960 960\">\n",
              "    <path d=\"M120-120v-720h720v720H120Zm60-500h600v-160H180v160Zm220 220h160v-160H400v160Zm0 220h160v-160H400v160ZM180-400h160v-160H180v160Zm440 0h160v-160H620v160ZM180-180h160v-160H180v160Zm440 0h160v-160H620v160Z\"/>\n",
              "  </svg>\n",
              "    </button>\n",
              "\n",
              "  <style>\n",
              "    .colab-df-container {\n",
              "      display:flex;\n",
              "      gap: 12px;\n",
              "    }\n",
              "\n",
              "    .colab-df-convert {\n",
              "      background-color: #E8F0FE;\n",
              "      border: none;\n",
              "      border-radius: 50%;\n",
              "      cursor: pointer;\n",
              "      display: none;\n",
              "      fill: #1967D2;\n",
              "      height: 32px;\n",
              "      padding: 0 0 0 0;\n",
              "      width: 32px;\n",
              "    }\n",
              "\n",
              "    .colab-df-convert:hover {\n",
              "      background-color: #E2EBFA;\n",
              "      box-shadow: 0px 1px 2px rgba(60, 64, 67, 0.3), 0px 1px 3px 1px rgba(60, 64, 67, 0.15);\n",
              "      fill: #174EA6;\n",
              "    }\n",
              "\n",
              "    .colab-df-buttons div {\n",
              "      margin-bottom: 4px;\n",
              "    }\n",
              "\n",
              "    [theme=dark] .colab-df-convert {\n",
              "      background-color: #3B4455;\n",
              "      fill: #D2E3FC;\n",
              "    }\n",
              "\n",
              "    [theme=dark] .colab-df-convert:hover {\n",
              "      background-color: #434B5C;\n",
              "      box-shadow: 0px 1px 3px 1px rgba(0, 0, 0, 0.15);\n",
              "      filter: drop-shadow(0px 1px 2px rgba(0, 0, 0, 0.3));\n",
              "      fill: #FFFFFF;\n",
              "    }\n",
              "  </style>\n",
              "\n",
              "    <script>\n",
              "      const buttonEl =\n",
              "        document.querySelector('#df-d435ffae-4333-434b-a814-d200727d553b button.colab-df-convert');\n",
              "      buttonEl.style.display =\n",
              "        google.colab.kernel.accessAllowed ? 'block' : 'none';\n",
              "\n",
              "      async function convertToInteractive(key) {\n",
              "        const element = document.querySelector('#df-d435ffae-4333-434b-a814-d200727d553b');\n",
              "        const dataTable =\n",
              "          await google.colab.kernel.invokeFunction('convertToInteractive',\n",
              "                                                    [key], {});\n",
              "        if (!dataTable) return;\n",
              "\n",
              "        const docLinkHtml = 'Like what you see? Visit the ' +\n",
              "          '<a target=\"_blank\" href=https://colab.research.google.com/notebooks/data_table.ipynb>data table notebook</a>'\n",
              "          + ' to learn more about interactive tables.';\n",
              "        element.innerHTML = '';\n",
              "        dataTable['output_type'] = 'display_data';\n",
              "        await google.colab.output.renderOutput(dataTable, element);\n",
              "        const docLink = document.createElement('div');\n",
              "        docLink.innerHTML = docLinkHtml;\n",
              "        element.appendChild(docLink);\n",
              "      }\n",
              "    </script>\n",
              "  </div>\n",
              "\n",
              "\n",
              "<div id=\"df-45db72f8-bc46-4da6-b666-e7b672ffad6d\">\n",
              "  <button class=\"colab-df-quickchart\" onclick=\"quickchart('df-45db72f8-bc46-4da6-b666-e7b672ffad6d')\"\n",
              "            title=\"Suggest charts\"\n",
              "            style=\"display:none;\">\n",
              "\n",
              "<svg xmlns=\"http://www.w3.org/2000/svg\" height=\"24px\"viewBox=\"0 0 24 24\"\n",
              "     width=\"24px\">\n",
              "    <g>\n",
              "        <path d=\"M19 3H5c-1.1 0-2 .9-2 2v14c0 1.1.9 2 2 2h14c1.1 0 2-.9 2-2V5c0-1.1-.9-2-2-2zM9 17H7v-7h2v7zm4 0h-2V7h2v10zm4 0h-2v-4h2v4z\"/>\n",
              "    </g>\n",
              "</svg>\n",
              "  </button>\n",
              "\n",
              "<style>\n",
              "  .colab-df-quickchart {\n",
              "      --bg-color: #E8F0FE;\n",
              "      --fill-color: #1967D2;\n",
              "      --hover-bg-color: #E2EBFA;\n",
              "      --hover-fill-color: #174EA6;\n",
              "      --disabled-fill-color: #AAA;\n",
              "      --disabled-bg-color: #DDD;\n",
              "  }\n",
              "\n",
              "  [theme=dark] .colab-df-quickchart {\n",
              "      --bg-color: #3B4455;\n",
              "      --fill-color: #D2E3FC;\n",
              "      --hover-bg-color: #434B5C;\n",
              "      --hover-fill-color: #FFFFFF;\n",
              "      --disabled-bg-color: #3B4455;\n",
              "      --disabled-fill-color: #666;\n",
              "  }\n",
              "\n",
              "  .colab-df-quickchart {\n",
              "    background-color: var(--bg-color);\n",
              "    border: none;\n",
              "    border-radius: 50%;\n",
              "    cursor: pointer;\n",
              "    display: none;\n",
              "    fill: var(--fill-color);\n",
              "    height: 32px;\n",
              "    padding: 0;\n",
              "    width: 32px;\n",
              "  }\n",
              "\n",
              "  .colab-df-quickchart:hover {\n",
              "    background-color: var(--hover-bg-color);\n",
              "    box-shadow: 0 1px 2px rgba(60, 64, 67, 0.3), 0 1px 3px 1px rgba(60, 64, 67, 0.15);\n",
              "    fill: var(--button-hover-fill-color);\n",
              "  }\n",
              "\n",
              "  .colab-df-quickchart-complete:disabled,\n",
              "  .colab-df-quickchart-complete:disabled:hover {\n",
              "    background-color: var(--disabled-bg-color);\n",
              "    fill: var(--disabled-fill-color);\n",
              "    box-shadow: none;\n",
              "  }\n",
              "\n",
              "  .colab-df-spinner {\n",
              "    border: 2px solid var(--fill-color);\n",
              "    border-color: transparent;\n",
              "    border-bottom-color: var(--fill-color);\n",
              "    animation:\n",
              "      spin 1s steps(1) infinite;\n",
              "  }\n",
              "\n",
              "  @keyframes spin {\n",
              "    0% {\n",
              "      border-color: transparent;\n",
              "      border-bottom-color: var(--fill-color);\n",
              "      border-left-color: var(--fill-color);\n",
              "    }\n",
              "    20% {\n",
              "      border-color: transparent;\n",
              "      border-left-color: var(--fill-color);\n",
              "      border-top-color: var(--fill-color);\n",
              "    }\n",
              "    30% {\n",
              "      border-color: transparent;\n",
              "      border-left-color: var(--fill-color);\n",
              "      border-top-color: var(--fill-color);\n",
              "      border-right-color: var(--fill-color);\n",
              "    }\n",
              "    40% {\n",
              "      border-color: transparent;\n",
              "      border-right-color: var(--fill-color);\n",
              "      border-top-color: var(--fill-color);\n",
              "    }\n",
              "    60% {\n",
              "      border-color: transparent;\n",
              "      border-right-color: var(--fill-color);\n",
              "    }\n",
              "    80% {\n",
              "      border-color: transparent;\n",
              "      border-right-color: var(--fill-color);\n",
              "      border-bottom-color: var(--fill-color);\n",
              "    }\n",
              "    90% {\n",
              "      border-color: transparent;\n",
              "      border-bottom-color: var(--fill-color);\n",
              "    }\n",
              "  }\n",
              "</style>\n",
              "\n",
              "  <script>\n",
              "    async function quickchart(key) {\n",
              "      const quickchartButtonEl =\n",
              "        document.querySelector('#' + key + ' button');\n",
              "      quickchartButtonEl.disabled = true;  // To prevent multiple clicks.\n",
              "      quickchartButtonEl.classList.add('colab-df-spinner');\n",
              "      try {\n",
              "        const charts = await google.colab.kernel.invokeFunction(\n",
              "            'suggestCharts', [key], {});\n",
              "      } catch (error) {\n",
              "        console.error('Error during call to suggestCharts:', error);\n",
              "      }\n",
              "      quickchartButtonEl.classList.remove('colab-df-spinner');\n",
              "      quickchartButtonEl.classList.add('colab-df-quickchart-complete');\n",
              "    }\n",
              "    (() => {\n",
              "      let quickchartButtonEl =\n",
              "        document.querySelector('#df-45db72f8-bc46-4da6-b666-e7b672ffad6d button');\n",
              "      quickchartButtonEl.style.display =\n",
              "        google.colab.kernel.accessAllowed ? 'block' : 'none';\n",
              "    })();\n",
              "  </script>\n",
              "</div>\n",
              "\n",
              "    </div>\n",
              "  </div>\n"
            ]
          },
          "metadata": {},
          "execution_count": 6
        }
      ]
    },
    {
      "cell_type": "code",
      "source": [
        "print(verisetiDf.columns)"
      ],
      "metadata": {
        "colab": {
          "base_uri": "https://localhost:8080/"
        },
        "id": "A-PLaF5K3UA3",
        "outputId": "b46b69a5-4a82-4134-c629-e275c37400f4"
      },
      "execution_count": null,
      "outputs": [
        {
          "output_type": "stream",
          "name": "stdout",
          "text": [
            "Index(['Görüş', 'Durum'], dtype='object')\n"
          ]
        }
      ]
    },
    {
      "cell_type": "code",
      "source": [
        "verisetiDf.info()"
      ],
      "metadata": {
        "colab": {
          "base_uri": "https://localhost:8080/"
        },
        "id": "sykeIak_3kFw",
        "outputId": "8f5da674-1b4d-4246-c826-abdd8377021b"
      },
      "execution_count": null,
      "outputs": [
        {
          "output_type": "stream",
          "name": "stdout",
          "text": [
            "<class 'pandas.core.frame.DataFrame'>\n",
            "RangeIndex: 11429 entries, 0 to 11428\n",
            "Data columns (total 2 columns):\n",
            " #   Column  Non-Null Count  Dtype \n",
            "---  ------  --------------  ----- \n",
            " 0   Görüş   11426 non-null  object\n",
            " 1   Durum   11429 non-null  object\n",
            "dtypes: object(2)\n",
            "memory usage: 178.7+ KB\n"
          ]
        }
      ]
    },
    {
      "cell_type": "code",
      "source": [
        "verisetiDf1Preprocessing = pd.DataFrame()\n",
        "verisetiDf2Preprocessing = pd.DataFrame()\n",
        "verisetiDf1Preprocessing[\"Gorus\"] = verisetiDf[\"Görüş\"]\n",
        "\n",
        "verisetiDf2Preprocessing[\"Durumu\"] = verisetiDf['Durum']\n"
      ],
      "metadata": {
        "id": "I4km6psq5_LD"
      },
      "execution_count": null,
      "outputs": []
    },
    {
      "cell_type": "code",
      "source": [
        "verisetiDf1Preprocessing['Gorus']\n"
      ],
      "metadata": {
        "colab": {
          "base_uri": "https://localhost:8080/"
        },
        "id": "Z8tnFQCeDHSD",
        "outputId": "cdf5145b-2b09-47ff-f72a-52c1925d30dd"
      },
      "execution_count": null,
      "outputs": [
        {
          "output_type": "execute_result",
          "data": {
            "text/plain": [
              "0        ses kalitesi ve ergonomisi rezalet, sony olduğ...\n",
              "1                               hizli teslimat tesekkürler\n",
              "2        ses olayı süper....gece çalıştır sıkıntı yok.....\n",
              "3        geldi bigün kullandık hemen bozoldu hiçtavsiye...\n",
              "4        Kulaklığın sesi kaliteli falan değil. Aleti öv...\n",
              "                               ...                        \n",
              "11424          biraz fazla ısınıyor ama sorumsuz çalışıyor\n",
              "11425    orijinal ürün fakat ambalaj bize ulaşana kadar...\n",
              "11426    bu cihazı 1 yıldır kullanıyorum cihazı çok beğ...\n",
              "11427    Bir sene olmadı ayar düğmesine basıyorum ekran...\n",
              "11428    Urun kaliteli zamaninda tedlimat ve kullanisli...\n",
              "Name: Gorus, Length: 11429, dtype: object"
            ]
          },
          "metadata": {},
          "execution_count": 10
        }
      ]
    },
    {
      "cell_type": "code",
      "source": [
        "verisetiDf2Preprocessing[\"Durumu\"]\n"
      ],
      "metadata": {
        "colab": {
          "base_uri": "https://localhost:8080/"
        },
        "id": "Y3kl0ItVx6hl",
        "outputId": "df9c33a9-a6b2-4694-aea9-b94b9c22dadd"
      },
      "execution_count": null,
      "outputs": [
        {
          "output_type": "execute_result",
          "data": {
            "text/plain": [
              "0         Olumsuz\n",
              "1        Tarafsız\n",
              "2          Olumlu\n",
              "3         Olumsuz\n",
              "4         Olumsuz\n",
              "           ...   \n",
              "11424    Tarafsız\n",
              "11425    Tarafsız\n",
              "11426     Olumsuz\n",
              "11427    Tarafsız\n",
              "11428      Olumlu\n",
              "Name: Durumu, Length: 11429, dtype: object"
            ]
          },
          "metadata": {},
          "execution_count": 11
        }
      ]
    },
    {
      "cell_type": "markdown",
      "source": [
        "Büyük-Küçük Harf Dönüşümü"
      ],
      "metadata": {
        "id": "9c17dRVACMUO"
      }
    },
    {
      "cell_type": "code",
      "source": [
        "verisetiDf1Preprocessing['Gorus'] = verisetiDf1Preprocessing['Gorus'].apply(lambda x: \" \".join(x.lower() for x in str(x).split()))"
      ],
      "metadata": {
        "id": "UvhZDFz74JBT"
      },
      "execution_count": null,
      "outputs": []
    },
    {
      "cell_type": "code",
      "source": [
        "verisetiDf1Preprocessing = pd.DataFrame(verisetiDf1Preprocessing, columns = [\"Gorus\"])"
      ],
      "metadata": {
        "id": "b7VEIkfsGMc7"
      },
      "execution_count": null,
      "outputs": []
    },
    {
      "cell_type": "markdown",
      "source": [
        "**Noktalama İşaretlerinin Silinmesi**"
      ],
      "metadata": {
        "id": "2AkHBqRtCI41"
      }
    },
    {
      "cell_type": "code",
      "source": [
        "verisetiDf1Preprocessing['Gorus'] = verisetiDf1Preprocessing['Gorus'].str.replace('[^\\w\\s]','')\n",
        "verisetiDf1Preprocessing.head(5)"
      ],
      "metadata": {
        "colab": {
          "base_uri": "https://localhost:8080/",
          "height": 206
        },
        "id": "6ioMCo2rB3wI",
        "outputId": "126fa36b-147e-40a8-9712-e5612b4db3ad"
      },
      "execution_count": null,
      "outputs": [
        {
          "output_type": "execute_result",
          "data": {
            "text/plain": [
              "                                               Gorus\n",
              "0  ses kalitesi ve ergonomisi rezalet sony olduğu...\n",
              "1                         hizli teslimat tesekkürler\n",
              "2  ses olayı süpergece çalıştır sıkıntı yokkablo ...\n",
              "3  geldi bigün kullandık hemen bozoldu hiçtavsiye...\n",
              "4  kulaklığın sesi kaliteli falan değil aleti öve..."
            ],
            "text/html": [
              "\n",
              "  <div id=\"df-ac8c18a2-b7ef-46a9-96ee-f869da7dddad\" class=\"colab-df-container\">\n",
              "    <div>\n",
              "<style scoped>\n",
              "    .dataframe tbody tr th:only-of-type {\n",
              "        vertical-align: middle;\n",
              "    }\n",
              "\n",
              "    .dataframe tbody tr th {\n",
              "        vertical-align: top;\n",
              "    }\n",
              "\n",
              "    .dataframe thead th {\n",
              "        text-align: right;\n",
              "    }\n",
              "</style>\n",
              "<table border=\"1\" class=\"dataframe\">\n",
              "  <thead>\n",
              "    <tr style=\"text-align: right;\">\n",
              "      <th></th>\n",
              "      <th>Gorus</th>\n",
              "    </tr>\n",
              "  </thead>\n",
              "  <tbody>\n",
              "    <tr>\n",
              "      <th>0</th>\n",
              "      <td>ses kalitesi ve ergonomisi rezalet sony olduğu...</td>\n",
              "    </tr>\n",
              "    <tr>\n",
              "      <th>1</th>\n",
              "      <td>hizli teslimat tesekkürler</td>\n",
              "    </tr>\n",
              "    <tr>\n",
              "      <th>2</th>\n",
              "      <td>ses olayı süpergece çalıştır sıkıntı yokkablo ...</td>\n",
              "    </tr>\n",
              "    <tr>\n",
              "      <th>3</th>\n",
              "      <td>geldi bigün kullandık hemen bozoldu hiçtavsiye...</td>\n",
              "    </tr>\n",
              "    <tr>\n",
              "      <th>4</th>\n",
              "      <td>kulaklığın sesi kaliteli falan değil aleti öve...</td>\n",
              "    </tr>\n",
              "  </tbody>\n",
              "</table>\n",
              "</div>\n",
              "    <div class=\"colab-df-buttons\">\n",
              "\n",
              "  <div class=\"colab-df-container\">\n",
              "    <button class=\"colab-df-convert\" onclick=\"convertToInteractive('df-ac8c18a2-b7ef-46a9-96ee-f869da7dddad')\"\n",
              "            title=\"Convert this dataframe to an interactive table.\"\n",
              "            style=\"display:none;\">\n",
              "\n",
              "  <svg xmlns=\"http://www.w3.org/2000/svg\" height=\"24px\" viewBox=\"0 -960 960 960\">\n",
              "    <path d=\"M120-120v-720h720v720H120Zm60-500h600v-160H180v160Zm220 220h160v-160H400v160Zm0 220h160v-160H400v160ZM180-400h160v-160H180v160Zm440 0h160v-160H620v160ZM180-180h160v-160H180v160Zm440 0h160v-160H620v160Z\"/>\n",
              "  </svg>\n",
              "    </button>\n",
              "\n",
              "  <style>\n",
              "    .colab-df-container {\n",
              "      display:flex;\n",
              "      gap: 12px;\n",
              "    }\n",
              "\n",
              "    .colab-df-convert {\n",
              "      background-color: #E8F0FE;\n",
              "      border: none;\n",
              "      border-radius: 50%;\n",
              "      cursor: pointer;\n",
              "      display: none;\n",
              "      fill: #1967D2;\n",
              "      height: 32px;\n",
              "      padding: 0 0 0 0;\n",
              "      width: 32px;\n",
              "    }\n",
              "\n",
              "    .colab-df-convert:hover {\n",
              "      background-color: #E2EBFA;\n",
              "      box-shadow: 0px 1px 2px rgba(60, 64, 67, 0.3), 0px 1px 3px 1px rgba(60, 64, 67, 0.15);\n",
              "      fill: #174EA6;\n",
              "    }\n",
              "\n",
              "    .colab-df-buttons div {\n",
              "      margin-bottom: 4px;\n",
              "    }\n",
              "\n",
              "    [theme=dark] .colab-df-convert {\n",
              "      background-color: #3B4455;\n",
              "      fill: #D2E3FC;\n",
              "    }\n",
              "\n",
              "    [theme=dark] .colab-df-convert:hover {\n",
              "      background-color: #434B5C;\n",
              "      box-shadow: 0px 1px 3px 1px rgba(0, 0, 0, 0.15);\n",
              "      filter: drop-shadow(0px 1px 2px rgba(0, 0, 0, 0.3));\n",
              "      fill: #FFFFFF;\n",
              "    }\n",
              "  </style>\n",
              "\n",
              "    <script>\n",
              "      const buttonEl =\n",
              "        document.querySelector('#df-ac8c18a2-b7ef-46a9-96ee-f869da7dddad button.colab-df-convert');\n",
              "      buttonEl.style.display =\n",
              "        google.colab.kernel.accessAllowed ? 'block' : 'none';\n",
              "\n",
              "      async function convertToInteractive(key) {\n",
              "        const element = document.querySelector('#df-ac8c18a2-b7ef-46a9-96ee-f869da7dddad');\n",
              "        const dataTable =\n",
              "          await google.colab.kernel.invokeFunction('convertToInteractive',\n",
              "                                                    [key], {});\n",
              "        if (!dataTable) return;\n",
              "\n",
              "        const docLinkHtml = 'Like what you see? Visit the ' +\n",
              "          '<a target=\"_blank\" href=https://colab.research.google.com/notebooks/data_table.ipynb>data table notebook</a>'\n",
              "          + ' to learn more about interactive tables.';\n",
              "        element.innerHTML = '';\n",
              "        dataTable['output_type'] = 'display_data';\n",
              "        await google.colab.output.renderOutput(dataTable, element);\n",
              "        const docLink = document.createElement('div');\n",
              "        docLink.innerHTML = docLinkHtml;\n",
              "        element.appendChild(docLink);\n",
              "      }\n",
              "    </script>\n",
              "  </div>\n",
              "\n",
              "\n",
              "<div id=\"df-722dde0e-962b-4636-8107-b12de24a9b23\">\n",
              "  <button class=\"colab-df-quickchart\" onclick=\"quickchart('df-722dde0e-962b-4636-8107-b12de24a9b23')\"\n",
              "            title=\"Suggest charts\"\n",
              "            style=\"display:none;\">\n",
              "\n",
              "<svg xmlns=\"http://www.w3.org/2000/svg\" height=\"24px\"viewBox=\"0 0 24 24\"\n",
              "     width=\"24px\">\n",
              "    <g>\n",
              "        <path d=\"M19 3H5c-1.1 0-2 .9-2 2v14c0 1.1.9 2 2 2h14c1.1 0 2-.9 2-2V5c0-1.1-.9-2-2-2zM9 17H7v-7h2v7zm4 0h-2V7h2v10zm4 0h-2v-4h2v4z\"/>\n",
              "    </g>\n",
              "</svg>\n",
              "  </button>\n",
              "\n",
              "<style>\n",
              "  .colab-df-quickchart {\n",
              "      --bg-color: #E8F0FE;\n",
              "      --fill-color: #1967D2;\n",
              "      --hover-bg-color: #E2EBFA;\n",
              "      --hover-fill-color: #174EA6;\n",
              "      --disabled-fill-color: #AAA;\n",
              "      --disabled-bg-color: #DDD;\n",
              "  }\n",
              "\n",
              "  [theme=dark] .colab-df-quickchart {\n",
              "      --bg-color: #3B4455;\n",
              "      --fill-color: #D2E3FC;\n",
              "      --hover-bg-color: #434B5C;\n",
              "      --hover-fill-color: #FFFFFF;\n",
              "      --disabled-bg-color: #3B4455;\n",
              "      --disabled-fill-color: #666;\n",
              "  }\n",
              "\n",
              "  .colab-df-quickchart {\n",
              "    background-color: var(--bg-color);\n",
              "    border: none;\n",
              "    border-radius: 50%;\n",
              "    cursor: pointer;\n",
              "    display: none;\n",
              "    fill: var(--fill-color);\n",
              "    height: 32px;\n",
              "    padding: 0;\n",
              "    width: 32px;\n",
              "  }\n",
              "\n",
              "  .colab-df-quickchart:hover {\n",
              "    background-color: var(--hover-bg-color);\n",
              "    box-shadow: 0 1px 2px rgba(60, 64, 67, 0.3), 0 1px 3px 1px rgba(60, 64, 67, 0.15);\n",
              "    fill: var(--button-hover-fill-color);\n",
              "  }\n",
              "\n",
              "  .colab-df-quickchart-complete:disabled,\n",
              "  .colab-df-quickchart-complete:disabled:hover {\n",
              "    background-color: var(--disabled-bg-color);\n",
              "    fill: var(--disabled-fill-color);\n",
              "    box-shadow: none;\n",
              "  }\n",
              "\n",
              "  .colab-df-spinner {\n",
              "    border: 2px solid var(--fill-color);\n",
              "    border-color: transparent;\n",
              "    border-bottom-color: var(--fill-color);\n",
              "    animation:\n",
              "      spin 1s steps(1) infinite;\n",
              "  }\n",
              "\n",
              "  @keyframes spin {\n",
              "    0% {\n",
              "      border-color: transparent;\n",
              "      border-bottom-color: var(--fill-color);\n",
              "      border-left-color: var(--fill-color);\n",
              "    }\n",
              "    20% {\n",
              "      border-color: transparent;\n",
              "      border-left-color: var(--fill-color);\n",
              "      border-top-color: var(--fill-color);\n",
              "    }\n",
              "    30% {\n",
              "      border-color: transparent;\n",
              "      border-left-color: var(--fill-color);\n",
              "      border-top-color: var(--fill-color);\n",
              "      border-right-color: var(--fill-color);\n",
              "    }\n",
              "    40% {\n",
              "      border-color: transparent;\n",
              "      border-right-color: var(--fill-color);\n",
              "      border-top-color: var(--fill-color);\n",
              "    }\n",
              "    60% {\n",
              "      border-color: transparent;\n",
              "      border-right-color: var(--fill-color);\n",
              "    }\n",
              "    80% {\n",
              "      border-color: transparent;\n",
              "      border-right-color: var(--fill-color);\n",
              "      border-bottom-color: var(--fill-color);\n",
              "    }\n",
              "    90% {\n",
              "      border-color: transparent;\n",
              "      border-bottom-color: var(--fill-color);\n",
              "    }\n",
              "  }\n",
              "</style>\n",
              "\n",
              "  <script>\n",
              "    async function quickchart(key) {\n",
              "      const quickchartButtonEl =\n",
              "        document.querySelector('#' + key + ' button');\n",
              "      quickchartButtonEl.disabled = true;  // To prevent multiple clicks.\n",
              "      quickchartButtonEl.classList.add('colab-df-spinner');\n",
              "      try {\n",
              "        const charts = await google.colab.kernel.invokeFunction(\n",
              "            'suggestCharts', [key], {});\n",
              "      } catch (error) {\n",
              "        console.error('Error during call to suggestCharts:', error);\n",
              "      }\n",
              "      quickchartButtonEl.classList.remove('colab-df-spinner');\n",
              "      quickchartButtonEl.classList.add('colab-df-quickchart-complete');\n",
              "    }\n",
              "    (() => {\n",
              "      let quickchartButtonEl =\n",
              "        document.querySelector('#df-722dde0e-962b-4636-8107-b12de24a9b23 button');\n",
              "      quickchartButtonEl.style.display =\n",
              "        google.colab.kernel.accessAllowed ? 'block' : 'none';\n",
              "    })();\n",
              "  </script>\n",
              "</div>\n",
              "\n",
              "    </div>\n",
              "  </div>\n"
            ]
          },
          "metadata": {},
          "execution_count": 14
        }
      ]
    },
    {
      "cell_type": "markdown",
      "source": [
        "**Etkisiz Kelimelerin (Stop Words) Silinmesi**"
      ],
      "metadata": {
        "id": "JhHADRcQC1tV"
      }
    },
    {
      "cell_type": "code",
      "source": [
        "print(type(verisetiDf1Preprocessing)) #<class 'pandas.core.series.Series'>"
      ],
      "metadata": {
        "colab": {
          "base_uri": "https://localhost:8080/"
        },
        "id": "SRGxJoyZDEhh",
        "outputId": "69e1a88b-e185-46db-ec7f-242e561eb576"
      },
      "execution_count": null,
      "outputs": [
        {
          "output_type": "stream",
          "name": "stdout",
          "text": [
            "<class 'pandas.core.frame.DataFrame'>\n"
          ]
        }
      ]
    },
    {
      "cell_type": "code",
      "source": [
        "verisetiDf1Preprocessing = pd.DataFrame(verisetiDf1Preprocessing, columns = [\"Gorus\"])\n",
        "#Sayıların silinmesi esnasında Series olan Verisetini tekrardan DataFrame'e dönüştürür\n",
        "print(type(verisetiDf1Preprocessing)) #<class 'pandas.core.frame.DataFrame'>\n",
        "verisetiDf1Preprocessing.head(5)"
      ],
      "metadata": {
        "colab": {
          "base_uri": "https://localhost:8080/",
          "height": 224
        },
        "id": "qbX-DWYXDJdr",
        "outputId": "cc234dee-36f3-4b38-d92b-b745b3f84ab6"
      },
      "execution_count": null,
      "outputs": [
        {
          "output_type": "stream",
          "name": "stdout",
          "text": [
            "<class 'pandas.core.frame.DataFrame'>\n"
          ]
        },
        {
          "output_type": "execute_result",
          "data": {
            "text/plain": [
              "                                               Gorus\n",
              "0  ses kalitesi ve ergonomisi rezalet sony olduğu...\n",
              "1                         hizli teslimat tesekkürler\n",
              "2  ses olayı süpergece çalıştır sıkıntı yokkablo ...\n",
              "3  geldi bigün kullandık hemen bozoldu hiçtavsiye...\n",
              "4  kulaklığın sesi kaliteli falan değil aleti öve..."
            ],
            "text/html": [
              "\n",
              "  <div id=\"df-a2ac871e-c66b-4533-b15e-28067766693d\" class=\"colab-df-container\">\n",
              "    <div>\n",
              "<style scoped>\n",
              "    .dataframe tbody tr th:only-of-type {\n",
              "        vertical-align: middle;\n",
              "    }\n",
              "\n",
              "    .dataframe tbody tr th {\n",
              "        vertical-align: top;\n",
              "    }\n",
              "\n",
              "    .dataframe thead th {\n",
              "        text-align: right;\n",
              "    }\n",
              "</style>\n",
              "<table border=\"1\" class=\"dataframe\">\n",
              "  <thead>\n",
              "    <tr style=\"text-align: right;\">\n",
              "      <th></th>\n",
              "      <th>Gorus</th>\n",
              "    </tr>\n",
              "  </thead>\n",
              "  <tbody>\n",
              "    <tr>\n",
              "      <th>0</th>\n",
              "      <td>ses kalitesi ve ergonomisi rezalet sony olduğu...</td>\n",
              "    </tr>\n",
              "    <tr>\n",
              "      <th>1</th>\n",
              "      <td>hizli teslimat tesekkürler</td>\n",
              "    </tr>\n",
              "    <tr>\n",
              "      <th>2</th>\n",
              "      <td>ses olayı süpergece çalıştır sıkıntı yokkablo ...</td>\n",
              "    </tr>\n",
              "    <tr>\n",
              "      <th>3</th>\n",
              "      <td>geldi bigün kullandık hemen bozoldu hiçtavsiye...</td>\n",
              "    </tr>\n",
              "    <tr>\n",
              "      <th>4</th>\n",
              "      <td>kulaklığın sesi kaliteli falan değil aleti öve...</td>\n",
              "    </tr>\n",
              "  </tbody>\n",
              "</table>\n",
              "</div>\n",
              "    <div class=\"colab-df-buttons\">\n",
              "\n",
              "  <div class=\"colab-df-container\">\n",
              "    <button class=\"colab-df-convert\" onclick=\"convertToInteractive('df-a2ac871e-c66b-4533-b15e-28067766693d')\"\n",
              "            title=\"Convert this dataframe to an interactive table.\"\n",
              "            style=\"display:none;\">\n",
              "\n",
              "  <svg xmlns=\"http://www.w3.org/2000/svg\" height=\"24px\" viewBox=\"0 -960 960 960\">\n",
              "    <path d=\"M120-120v-720h720v720H120Zm60-500h600v-160H180v160Zm220 220h160v-160H400v160Zm0 220h160v-160H400v160ZM180-400h160v-160H180v160Zm440 0h160v-160H620v160ZM180-180h160v-160H180v160Zm440 0h160v-160H620v160Z\"/>\n",
              "  </svg>\n",
              "    </button>\n",
              "\n",
              "  <style>\n",
              "    .colab-df-container {\n",
              "      display:flex;\n",
              "      gap: 12px;\n",
              "    }\n",
              "\n",
              "    .colab-df-convert {\n",
              "      background-color: #E8F0FE;\n",
              "      border: none;\n",
              "      border-radius: 50%;\n",
              "      cursor: pointer;\n",
              "      display: none;\n",
              "      fill: #1967D2;\n",
              "      height: 32px;\n",
              "      padding: 0 0 0 0;\n",
              "      width: 32px;\n",
              "    }\n",
              "\n",
              "    .colab-df-convert:hover {\n",
              "      background-color: #E2EBFA;\n",
              "      box-shadow: 0px 1px 2px rgba(60, 64, 67, 0.3), 0px 1px 3px 1px rgba(60, 64, 67, 0.15);\n",
              "      fill: #174EA6;\n",
              "    }\n",
              "\n",
              "    .colab-df-buttons div {\n",
              "      margin-bottom: 4px;\n",
              "    }\n",
              "\n",
              "    [theme=dark] .colab-df-convert {\n",
              "      background-color: #3B4455;\n",
              "      fill: #D2E3FC;\n",
              "    }\n",
              "\n",
              "    [theme=dark] .colab-df-convert:hover {\n",
              "      background-color: #434B5C;\n",
              "      box-shadow: 0px 1px 3px 1px rgba(0, 0, 0, 0.15);\n",
              "      filter: drop-shadow(0px 1px 2px rgba(0, 0, 0, 0.3));\n",
              "      fill: #FFFFFF;\n",
              "    }\n",
              "  </style>\n",
              "\n",
              "    <script>\n",
              "      const buttonEl =\n",
              "        document.querySelector('#df-a2ac871e-c66b-4533-b15e-28067766693d button.colab-df-convert');\n",
              "      buttonEl.style.display =\n",
              "        google.colab.kernel.accessAllowed ? 'block' : 'none';\n",
              "\n",
              "      async function convertToInteractive(key) {\n",
              "        const element = document.querySelector('#df-a2ac871e-c66b-4533-b15e-28067766693d');\n",
              "        const dataTable =\n",
              "          await google.colab.kernel.invokeFunction('convertToInteractive',\n",
              "                                                    [key], {});\n",
              "        if (!dataTable) return;\n",
              "\n",
              "        const docLinkHtml = 'Like what you see? Visit the ' +\n",
              "          '<a target=\"_blank\" href=https://colab.research.google.com/notebooks/data_table.ipynb>data table notebook</a>'\n",
              "          + ' to learn more about interactive tables.';\n",
              "        element.innerHTML = '';\n",
              "        dataTable['output_type'] = 'display_data';\n",
              "        await google.colab.output.renderOutput(dataTable, element);\n",
              "        const docLink = document.createElement('div');\n",
              "        docLink.innerHTML = docLinkHtml;\n",
              "        element.appendChild(docLink);\n",
              "      }\n",
              "    </script>\n",
              "  </div>\n",
              "\n",
              "\n",
              "<div id=\"df-9ee93525-4fc8-4224-aba8-bc0225bcabee\">\n",
              "  <button class=\"colab-df-quickchart\" onclick=\"quickchart('df-9ee93525-4fc8-4224-aba8-bc0225bcabee')\"\n",
              "            title=\"Suggest charts\"\n",
              "            style=\"display:none;\">\n",
              "\n",
              "<svg xmlns=\"http://www.w3.org/2000/svg\" height=\"24px\"viewBox=\"0 0 24 24\"\n",
              "     width=\"24px\">\n",
              "    <g>\n",
              "        <path d=\"M19 3H5c-1.1 0-2 .9-2 2v14c0 1.1.9 2 2 2h14c1.1 0 2-.9 2-2V5c0-1.1-.9-2-2-2zM9 17H7v-7h2v7zm4 0h-2V7h2v10zm4 0h-2v-4h2v4z\"/>\n",
              "    </g>\n",
              "</svg>\n",
              "  </button>\n",
              "\n",
              "<style>\n",
              "  .colab-df-quickchart {\n",
              "      --bg-color: #E8F0FE;\n",
              "      --fill-color: #1967D2;\n",
              "      --hover-bg-color: #E2EBFA;\n",
              "      --hover-fill-color: #174EA6;\n",
              "      --disabled-fill-color: #AAA;\n",
              "      --disabled-bg-color: #DDD;\n",
              "  }\n",
              "\n",
              "  [theme=dark] .colab-df-quickchart {\n",
              "      --bg-color: #3B4455;\n",
              "      --fill-color: #D2E3FC;\n",
              "      --hover-bg-color: #434B5C;\n",
              "      --hover-fill-color: #FFFFFF;\n",
              "      --disabled-bg-color: #3B4455;\n",
              "      --disabled-fill-color: #666;\n",
              "  }\n",
              "\n",
              "  .colab-df-quickchart {\n",
              "    background-color: var(--bg-color);\n",
              "    border: none;\n",
              "    border-radius: 50%;\n",
              "    cursor: pointer;\n",
              "    display: none;\n",
              "    fill: var(--fill-color);\n",
              "    height: 32px;\n",
              "    padding: 0;\n",
              "    width: 32px;\n",
              "  }\n",
              "\n",
              "  .colab-df-quickchart:hover {\n",
              "    background-color: var(--hover-bg-color);\n",
              "    box-shadow: 0 1px 2px rgba(60, 64, 67, 0.3), 0 1px 3px 1px rgba(60, 64, 67, 0.15);\n",
              "    fill: var(--button-hover-fill-color);\n",
              "  }\n",
              "\n",
              "  .colab-df-quickchart-complete:disabled,\n",
              "  .colab-df-quickchart-complete:disabled:hover {\n",
              "    background-color: var(--disabled-bg-color);\n",
              "    fill: var(--disabled-fill-color);\n",
              "    box-shadow: none;\n",
              "  }\n",
              "\n",
              "  .colab-df-spinner {\n",
              "    border: 2px solid var(--fill-color);\n",
              "    border-color: transparent;\n",
              "    border-bottom-color: var(--fill-color);\n",
              "    animation:\n",
              "      spin 1s steps(1) infinite;\n",
              "  }\n",
              "\n",
              "  @keyframes spin {\n",
              "    0% {\n",
              "      border-color: transparent;\n",
              "      border-bottom-color: var(--fill-color);\n",
              "      border-left-color: var(--fill-color);\n",
              "    }\n",
              "    20% {\n",
              "      border-color: transparent;\n",
              "      border-left-color: var(--fill-color);\n",
              "      border-top-color: var(--fill-color);\n",
              "    }\n",
              "    30% {\n",
              "      border-color: transparent;\n",
              "      border-left-color: var(--fill-color);\n",
              "      border-top-color: var(--fill-color);\n",
              "      border-right-color: var(--fill-color);\n",
              "    }\n",
              "    40% {\n",
              "      border-color: transparent;\n",
              "      border-right-color: var(--fill-color);\n",
              "      border-top-color: var(--fill-color);\n",
              "    }\n",
              "    60% {\n",
              "      border-color: transparent;\n",
              "      border-right-color: var(--fill-color);\n",
              "    }\n",
              "    80% {\n",
              "      border-color: transparent;\n",
              "      border-right-color: var(--fill-color);\n",
              "      border-bottom-color: var(--fill-color);\n",
              "    }\n",
              "    90% {\n",
              "      border-color: transparent;\n",
              "      border-bottom-color: var(--fill-color);\n",
              "    }\n",
              "  }\n",
              "</style>\n",
              "\n",
              "  <script>\n",
              "    async function quickchart(key) {\n",
              "      const quickchartButtonEl =\n",
              "        document.querySelector('#' + key + ' button');\n",
              "      quickchartButtonEl.disabled = true;  // To prevent multiple clicks.\n",
              "      quickchartButtonEl.classList.add('colab-df-spinner');\n",
              "      try {\n",
              "        const charts = await google.colab.kernel.invokeFunction(\n",
              "            'suggestCharts', [key], {});\n",
              "      } catch (error) {\n",
              "        console.error('Error during call to suggestCharts:', error);\n",
              "      }\n",
              "      quickchartButtonEl.classList.remove('colab-df-spinner');\n",
              "      quickchartButtonEl.classList.add('colab-df-quickchart-complete');\n",
              "    }\n",
              "    (() => {\n",
              "      let quickchartButtonEl =\n",
              "        document.querySelector('#df-9ee93525-4fc8-4224-aba8-bc0225bcabee button');\n",
              "      quickchartButtonEl.style.display =\n",
              "        google.colab.kernel.accessAllowed ? 'block' : 'none';\n",
              "    })();\n",
              "  </script>\n",
              "</div>\n",
              "\n",
              "    </div>\n",
              "  </div>\n"
            ]
          },
          "metadata": {},
          "execution_count": 16
        }
      ]
    },
    {
      "cell_type": "code",
      "source": [
        "import nltk\n",
        "nltk.download(\"stopwords\") #nltk kütüphanesinden stopwords’leri indirir\n",
        "from nltk.corpus import stopwords # nltk.corpus kütüphanesinden stopwords fonksiyonunu getirir\n",
        "swTr = stopwords.words(\"turkish\")+['bir','biri','s'] #İngiliz diline ait stopwords'ler alınır\n",
        "print(swTr) #['i', 'me', 'my', 'myself', 'we', 'our', 'ours', 'ourselves', 'you', ...\n",
        "verisetiDf1Preprocessing = verisetiDf1Preprocessing[\"Gorus\"].apply(lambda x: \" \".join(x for x in x.split() if x not in swTr))\n",
        "#if x not in swEng #swEng içinde olmayanlar birleştirilerek veriseti elde edilir\n",
        "verisetiDf1Preprocessing.head(5)\n"
      ],
      "metadata": {
        "id": "pj8ls6fCCzGh",
        "colab": {
          "base_uri": "https://localhost:8080/"
        },
        "outputId": "e28644c5-ce11-4a98-a04d-468ab4179152"
      },
      "execution_count": null,
      "outputs": [
        {
          "output_type": "stream",
          "name": "stderr",
          "text": [
            "[nltk_data] Downloading package stopwords to /root/nltk_data...\n",
            "[nltk_data]   Unzipping corpora/stopwords.zip.\n"
          ]
        },
        {
          "output_type": "stream",
          "name": "stdout",
          "text": [
            "['acaba', 'ama', 'aslında', 'az', 'bazı', 'belki', 'biri', 'birkaç', 'birşey', 'biz', 'bu', 'çok', 'çünkü', 'da', 'daha', 'de', 'defa', 'diye', 'eğer', 'en', 'gibi', 'hem', 'hep', 'hepsi', 'her', 'hiç', 'için', 'ile', 'ise', 'kez', 'ki', 'kim', 'mı', 'mu', 'mü', 'nasıl', 'ne', 'neden', 'nerde', 'nerede', 'nereye', 'niçin', 'niye', 'o', 'sanki', 'şey', 'siz', 'şu', 'tüm', 've', 'veya', 'ya', 'yani', 'bir', 'biri', 's']\n"
          ]
        },
        {
          "output_type": "execute_result",
          "data": {
            "text/plain": [
              "0    ses kalitesi ergonomisi rezalet sony olduğu al...\n",
              "1                           hizli teslimat tesekkürler\n",
              "2    ses olayı süpergece çalıştır sıkıntı yokkablo ...\n",
              "3    geldi bigün kullandık hemen bozoldu hiçtavsiye...\n",
              "4    kulaklığın sesi kaliteli falan değil aleti öve...\n",
              "Name: Gorus, dtype: object"
            ]
          },
          "metadata": {},
          "execution_count": 17
        }
      ]
    },
    {
      "cell_type": "markdown",
      "source": [
        "\n",
        "\n",
        "**Az Geçen Kelimelerin Silinmesi:**\n",
        "\n",
        "\n",
        "\n",
        "\n",
        "\n"
      ],
      "metadata": {
        "id": "SySzdjOJD6cr"
      }
    },
    {
      "cell_type": "code",
      "source": [
        "\n",
        "kelimeSayilari = pd.Series(\" \".join(verisetiDf1Preprocessing).split()).value_counts() #Metinde her kelimenin kaç defa geçtiğini verir\n",
        "print(kelimeSayilari)\n",
        "silinecekler = pd.Series(\" \".join(verisetiDf1Preprocessing).split()).value_counts()[-505:] #En az geçen son 50 kelimeyi alır\n",
        "print(silinecekler)\n",
        "print(type(verisetiDf1Preprocessing)) #<class 'pandas.core.series.Series'>\n",
        "verisetiDf1Preprocessing = pd.DataFrame(verisetiDf1Preprocessing, columns = [\"Gorus\"]) #Verisetini tekrardan DataFrame'e dönüştürür\n",
        "verisetiDf1Preprocessing = verisetiDf1Preprocessing[\"Gorus\"].apply(lambda x: \" \".join(i for i in x.split() if i not in silinecekler))\n",
        "#Veri silme yapmayacağımıziçin Asıl değişkenimizin içeriği değişmesin diye verisetiDf1Preprocessing2 isminde farklı bir değişkene atayarak sadece gösterim yapıldı\n",
        "print(verisetiDf1Preprocessing)\n"
      ],
      "metadata": {
        "id": "lFwH_gwuDpzL",
        "colab": {
          "base_uri": "https://localhost:8080/"
        },
        "outputId": "e495182d-2e61-49c5-8ad2-a5e190298b46"
      },
      "execution_count": null,
      "outputs": [
        {
          "output_type": "stream",
          "name": "stdout",
          "text": [
            "ürün            3881\n",
            "iyi             2308\n",
            "güzel           2002\n",
            "tavsiye         1294\n",
            "yok             1237\n",
            "                ... \n",
            "rakamları          1\n",
            "100150200250       1\n",
            "çevirilen          1\n",
            "ayarlanan          1\n",
            "tedlimat           1\n",
            "Length: 37185, dtype: int64\n",
            "kalmıyorözelliklerine    1\n",
            "hakkımın                 1\n",
            "aklıma                   1\n",
            "takıntılıysanız          1\n",
            "avutuyorum               1\n",
            "                        ..\n",
            "rakamları                1\n",
            "100150200250             1\n",
            "çevirilen                1\n",
            "ayarlanan                1\n",
            "tedlimat                 1\n",
            "Length: 505, dtype: int64\n",
            "<class 'pandas.core.series.Series'>\n",
            "0        ses kalitesi ergonomisi rezalet sony olduğu al...\n",
            "1                               hizli teslimat tesekkürler\n",
            "2        ses olayı süpergece çalıştır sıkıntı yokkablo ...\n",
            "3        geldi bigün kullandık hemen bozoldu hiçtavsiye...\n",
            "4        kulaklığın sesi kaliteli falan değil aleti öve...\n",
            "                               ...                        \n",
            "11424              biraz fazla ısınıyor sorumsuz çalışıyor\n",
            "11425    orijinal ürün fakat ambalaj bize ulaşana kadar...\n",
            "11426    cihazı 1 yıldır kullanıyorum cihazı beğenerek ...\n",
            "11427    sene olmadı ayar düğmesine basıyorum ekran gid...\n",
            "11428    urun kaliteli zamaninda kullanisli köpüğü bol ...\n",
            "Name: Gorus, Length: 11429, dtype: object\n"
          ]
        }
      ]
    },
    {
      "cell_type": "code",
      "source": [
        "verisetiDf1Preprocessing = pd.DataFrame(verisetiDf1Preprocessing, columns = [\"Gorus\"]) #Verisetini tekrardan DataFrame'e dönüştürür"
      ],
      "metadata": {
        "id": "IG5aa6xpF1AP"
      },
      "execution_count": null,
      "outputs": []
    },
    {
      "cell_type": "markdown",
      "source": [
        "**Kelime Köküne İnme (Lemmatization):**"
      ],
      "metadata": {
        "id": "bIMlthWNEb7B"
      }
    },
    {
      "cell_type": "code",
      "source": [
        "import nltk\n",
        "from textblob import Word\n",
        "nltk.download(\"wordnet\")\n",
        "verisetiDf1Preprocessing = verisetiDf1Preprocessing[\"Gorus\"].apply(lambda x: \" \".join([Word(i).lemmatize() for i in x.split()]))\n",
        "print(verisetiDf1Preprocessing)\n",
        "\n",
        "#metin=verisetiDf1Preprocessing[\"Gorus\"]\n",
        "#from snowballstemmer import TurkishStemmer\n",
        "#snowBallStememr = TurkishStemmer()\n",
        "#def kelime_kök_alma(metin):\n",
        " #   wordlist = nltk.word_tokenize(metin)\n",
        "  #  stemWords = [snowBallStememr.stemWord(kelime) for kelime in wordlist]\n",
        "   # return \" \".join(stemWords)\n",
        "#print(metin)\n"
      ],
      "metadata": {
        "id": "XFli_dljEcG7",
        "colab": {
          "base_uri": "https://localhost:8080/"
        },
        "outputId": "653d5da2-1a07-48b4-f667-3ec69d593c3d"
      },
      "execution_count": null,
      "outputs": [
        {
          "output_type": "stream",
          "name": "stderr",
          "text": [
            "[nltk_data] Downloading package wordnet to /root/nltk_data...\n"
          ]
        },
        {
          "output_type": "stream",
          "name": "stdout",
          "text": [
            "0        s kalitesi ergonomisi rezalet sony olduğu aldı...\n",
            "1                               hizli teslimat tesekkürler\n",
            "2        s olayı süpergece çalıştır sıkıntı yokkablo uz...\n",
            "3        geldi bigün kullandık hemen bozoldu hiçtavsiye...\n",
            "4        kulaklığın sesi kaliteli falan değil aleti öve...\n",
            "                               ...                        \n",
            "11424              biraz fazla ısınıyor sorumsuz çalışıyor\n",
            "11425    orijinal ürün fakat ambalaj bize ulaşana kadar...\n",
            "11426    cihazı 1 yıldır kullanıyorum cihazı beğenerek ...\n",
            "11427    sene olmadı ayar düğmesine basıyorum ekran gid...\n",
            "11428    urun kaliteli zamaninda kullanisli köpüğü bol ...\n",
            "Name: Gorus, Length: 11429, dtype: object\n"
          ]
        }
      ]
    },
    {
      "cell_type": "code",
      "source": [
        "verisetiDf1Preprocessing = pd.DataFrame(verisetiDf1Preprocessing, columns = [\"Gorus\"])\n",
        " #Verisetini tekrardan DataFrame'e dönüştürür"
      ],
      "metadata": {
        "id": "0FqvZjOxGapE"
      },
      "execution_count": null,
      "outputs": []
    },
    {
      "cell_type": "code",
      "source": [
        "verisetiDf2Preprocessing = pd.DataFrame(verisetiDf2Preprocessing, columns = [\"Durumu\"])"
      ],
      "metadata": {
        "id": "xdpYvqNEyFh4"
      },
      "execution_count": null,
      "outputs": []
    },
    {
      "cell_type": "markdown",
      "source": [
        "**Verisetini Eğitim-Test Veri Kümesine Bölme**"
      ],
      "metadata": {
        "id": "jNZgd4kit6mh"
      }
    },
    {
      "cell_type": "code",
      "source": [
        "\n",
        "train_x, test_x, train_y, test_y = model_selection.train_test_split(verisetiDf1Preprocessing[\"Gorus\"],\n",
        "verisetiDf2Preprocessing[\"Durumu\"],\n",
        "random_state = 2) #Ifade:Bağımlı, DuyguEtiketi:Bağımsız Değişken"
      ],
      "metadata": {
        "id": "53k0kWyXtmwS"
      },
      "execution_count": null,
      "outputs": []
    },
    {
      "cell_type": "markdown",
      "source": [
        "**Öznitelik Çıkarımı**"
      ],
      "metadata": {
        "id": "akz4j9lBy5hx"
      }
    },
    {
      "cell_type": "code",
      "source": [
        "from sklearn.feature_extraction.text import HashingVectorizer\n",
        "HashingVector = HashingVectorizer(input='content', n_features=10000,norm=None,alternate_sign=False)\n",
        "HashingVector.fit(train_x)\n",
        "x_train_HashingVector = HashingVector.transform(train_x)\n",
        "x_test_HashingVector = HashingVector.transform(test_x)\n"
      ],
      "metadata": {
        "id": "-zDBdsBjdjCF"
      },
      "execution_count": null,
      "outputs": []
    },
    {
      "cell_type": "code",
      "source": [
        "#Count Vectorizer\n",
        "countVector = CountVectorizer()\n",
        "countVector.fit(train_x)\n",
        "x_train_countVector = countVector.transform(train_x)\n",
        "x_test_countVektor = countVector.transform(test_x)\n",
        "print(countVector.get_feature_names_out()[0:5]) #['abandoned', 'abel', 'abhorrent', 'able', 'aborted']\n",
        "print(x_train_countVector.toarray()) #Integer sayılar\n"
      ],
      "metadata": {
        "colab": {
          "base_uri": "https://localhost:8080/"
        },
        "id": "uyfqkFAsy0Lj",
        "outputId": "4b4da2a7-5571-44c6-f3aa-4b07ef8adf8b"
      },
      "execution_count": null,
      "outputs": [
        {
          "output_type": "stream",
          "name": "stdout",
          "text": [
            "['0000' '000000' '01032020' '0112' '03']\n",
            "[[0 0 0 ... 0 0 0]\n",
            " [0 0 0 ... 0 0 0]\n",
            " [0 0 0 ... 0 0 0]\n",
            " ...\n",
            " [0 0 0 ... 0 0 0]\n",
            " [0 0 0 ... 0 0 0]\n",
            " [0 0 0 ... 0 0 0]]\n"
          ]
        }
      ]
    },
    {
      "cell_type": "code",
      "source": [
        "#TF-IDF \"1. Word Level\"\n",
        "tfIdf1WordVector = TfidfVectorizer()\n",
        "tfIdf1WordVector.fit(train_x)\n",
        "x_train_tfIdf1WordVector = tfIdf1WordVector.transform(train_x)\n",
        "x_test_tfIdf1WordVector = tfIdf1WordVector.transform(test_x)\n",
        "print(tfIdf1WordVector.get_feature_names_out()[0:5]) #['abandoned', 'abel', 'able', 'aborted', 'absolute']\n",
        "print(x_train_tfIdf1WordVector.toarray()) #Float sayılar"
      ],
      "metadata": {
        "colab": {
          "base_uri": "https://localhost:8080/"
        },
        "id": "wrxeoSc1zFgE",
        "outputId": "42609d7b-700e-46d1-a95c-610468d30b1f"
      },
      "execution_count": null,
      "outputs": [
        {
          "output_type": "stream",
          "name": "stdout",
          "text": [
            "['0000' '000000' '01032020' '0112' '03']\n",
            "[[0. 0. 0. ... 0. 0. 0.]\n",
            " [0. 0. 0. ... 0. 0. 0.]\n",
            " [0. 0. 0. ... 0. 0. 0.]\n",
            " ...\n",
            " [0. 0. 0. ... 0. 0. 0.]\n",
            " [0. 0. 0. ... 0. 0. 0.]\n",
            " [0. 0. 0. ... 0. 0. 0.]]\n"
          ]
        }
      ]
    },
    {
      "cell_type": "code",
      "source": [
        "#TF-IDF \"2. N-Gram Level\"\n",
        "tfIdf2NgramVector = TfidfVectorizer(ngram_range=(2,3)) #2 ve 3 kelimelik gruplar oluştur\n",
        "tfIdf2NgramVector.fit(train_x)\n",
        "x_train_tfIdf2NgramVector = tfIdf2NgramVector.transform(train_x)\n",
        "x_test_tfIdf2NgramVector = tfIdf2NgramVector.transform(test_x)\n",
        "print(tfIdf2NgramVector.get_feature_names_out()[0:5]) #['abandoned still', 'abandoned still consoled', 'abel ferrara', 'abel ferrara beaten', 'able create']\n",
        "print(x_train_tfIdf2NgramVector.toarray()) #Float sayılar"
      ],
      "metadata": {
        "colab": {
          "base_uri": "https://localhost:8080/"
        },
        "id": "9JwYVNEKzJyo",
        "outputId": "cf6f48d6-3639-4cbe-8eac-88884d2fb2b7"
      },
      "execution_count": null,
      "outputs": [
        {
          "output_type": "stream",
          "name": "stdout",
          "text": [
            "['0000 gözüküyor' '0000 gözüküyor tekrar' '01032020 medium'\n",
            " '01032020 medium marktan' '0112 tarihinde']\n",
            "[[0. 0. 0. ... 0. 0. 0.]\n",
            " [0. 0. 0. ... 0. 0. 0.]\n",
            " [0. 0. 0. ... 0. 0. 0.]\n",
            " ...\n",
            " [0. 0. 0. ... 0. 0. 0.]\n",
            " [0. 0. 0. ... 0. 0. 0.]\n",
            " [0. 0. 0. ... 0. 0. 0.]]\n"
          ]
        }
      ]
    },
    {
      "cell_type": "code",
      "source": [
        "#TF-IDF \"3. Character Level\"\n",
        "tfIdf3CharVector = TfidfVectorizer(analyzer =\"char\", ngram_range=(2,3))\n",
        "tfIdf3CharVector.fit(train_x)\n",
        "x_train_tfIdf3CharVector = tfIdf3CharVector.transform(train_x)\n",
        "x_test_tfIdf3CharVector = tfIdf3CharVector.transform(test_x)\n",
        "print(tfIdf3CharVector.get_feature_names_out()[0:5]) #[' a', ' ab', ' ac', ' ad', ' af']\n",
        "print(x_train_tfIdf3CharVector.toarray()) #Float sayılar"
      ],
      "metadata": {
        "colab": {
          "base_uri": "https://localhost:8080/"
        },
        "id": "br6rLrPZzOlX",
        "outputId": "ff73ea92-b54e-44c0-8ea4-76e89d022941"
      },
      "execution_count": null,
      "outputs": [
        {
          "output_type": "stream",
          "name": "stdout",
          "text": [
            "[' 0' ' 0 ' ' 00' ' 01' ' 03']\n",
            "[[0. 0. 0. ... 0. 0. 0.]\n",
            " [0. 0. 0. ... 0. 0. 0.]\n",
            " [0. 0. 0. ... 0. 0. 0.]\n",
            " ...\n",
            " [0. 0. 0. ... 0. 0. 0.]\n",
            " [0. 0. 0. ... 0. 0. 0.]\n",
            " [0. 0. 0. ... 0. 0. 0.]]\n"
          ]
        }
      ]
    },
    {
      "cell_type": "code",
      "source": [
        "\n",
        "# Terim Frekansı\n",
        "verisetiDf1Feature = verisetiDf1Preprocessing.copy()\n",
        "#Terim Frekansı\n",
        "tf1 = (verisetiDf1Feature[\"Gorus\"]).apply(lambda x: pd.value_counts(x.split(\" \"))).sum(axis=0).reset_index()\n",
        "tf1.columns = [\"Kelimeler\", \"Terim Frekansı\"]\n",
        "tf1.head()\n",
        "tf1.info()\n",
        "tf1.nunique()\n",
        "#Bar Plot (Çubuk Grafik)\n",
        "ciz = tfIdf1WordVector[tfIdf1WordVector[\"Terim Frekansı\"] > 200] #Terim Frekansı değeri 200'den büyük olanları al\n",
        "ciz.plot.bar(x=\"Kelimeler\", y=\"Terim Frekansı\");"
      ],
      "metadata": {
        "id": "chu-pV000XIe"
      },
      "execution_count": null,
      "outputs": []
    },
    {
      "cell_type": "code",
      "source": [
        "text = \" \".join(i for i in verisetiDf1Preprocessing[\"Gorus\"])\n",
        "worldcloud = WordCloud(background_color=\"white\").generate(text)\n",
        "plt.figure()\n",
        "plt.imshow(worldcloud, interpolation=\"bilinear\")\n",
        "plt.axis(\"off\")\n",
        "plt.show()"
      ],
      "metadata": {
        "colab": {
          "base_uri": "https://localhost:8080/",
          "height": 285
        },
        "id": "fuut3WY4jM6H",
        "outputId": "f4416734-307c-463b-81b6-365cd79ecd82"
      },
      "execution_count": null,
      "outputs": [
        {
          "output_type": "display_data",
          "data": {
            "text/plain": [
              "<Figure size 640x480 with 1 Axes>"
            ],
            "image/png": "[encoded data removed]"
          },
          "metadata": {}
        }
      ]
    },
    {
      "cell_type": "code",
      "source": [
        "#Lojistik Regresyon ile\n",
        "loj = linear_model.LogisticRegression()\n",
        "loj_model = loj.fit(x_train_countVector, train_y)\n",
        "accuracy = model_selection.cross_val_score(loj_model, x_test_countVektor, test_y, cv=10).mean()\n",
        "print(\"Lojistik Regresyon ile Count Vectors Doğruluk Oranı:\", accuracy)\n",
        "loj = linear_model.LogisticRegression()\n",
        "loj_model = loj.fit(x_train_tfIdf1WordVector, train_y)\n",
        "accuracy = model_selection.cross_val_score(loj_model, x_test_tfIdf1WordVector, test_y, cv=10).mean()\n",
        "print(\"Lojistik Regresyon ile Word-Level TF-IDF Doğruluk Oranı:\", accuracy)\n",
        "loj = linear_model.LogisticRegression()\n",
        "loj_model = loj.fit(x_train_tfIdf2NgramVector, train_y)\n",
        "accuracy = model_selection.cross_val_score(loj_model, x_test_tfIdf2NgramVector, test_y, cv=10).mean()\n",
        "print(\"Lojistik Regresyon ile N-Gram TF-IDF Doğruluk Oranı:\", accuracy)\n",
        "loj = linear_model.LogisticRegression()\n",
        "loj_model = loj.fit(x_train_tfIdf3CharVector, train_y)\n",
        "accuracy = model_selection.cross_val_score(loj_model, x_test_tfIdf3CharVector, test_y, cv=10).mean()\n",
        "print(\"Lojistik Regresyon ile Char-Level Doğruluk Oranı:\", accuracy)\n"
      ],
      "metadata": {
        "id": "VwF9yUTCzVvG",
        "colab": {
          "base_uri": "https://localhost:8080/"
        },
        "outputId": "1d86d132-36e6-4cd4-f30b-0df5c04c5fd1"
      },
      "execution_count": null,
      "outputs": [
        {
          "output_type": "stream",
          "name": "stdout",
          "text": [
            "Lojistik Regresyon ile Count Vectors Doğruluk Oranı: 0.6501128695865538\n",
            "Lojistik Regresyon ile Word-Level TF-IDF Doğruluk Oranı: 0.6721567905778432\n",
            "Lojistik Regresyon ile N-Gram TF-IDF Doğruluk Oranı: 0.5899227088700774\n",
            "Lojistik Regresyon ile Char-Level Doğruluk Oranı: 0.6700576616366091\n"
          ]
        }
      ]
    },
    {
      "cell_type": "code",
      "source": [
        "loj = linear_model.LogisticRegression()\n",
        "loj_model = loj.fit(x_train_HashingVector, train_y)\n",
        "accuracy = model_selection.cross_val_score(loj_model, x_test_HashingVector, test_y, cv=10).mean()\n",
        "print(\"Naive Bayes ile Hashing Vectors Doğruluk Oranı:\", accuracy)"
      ],
      "metadata": {
        "colab": {
          "base_uri": "https://localhost:8080/"
        },
        "id": "STzy7OITdVD9",
        "outputId": "26982789-8e08-40ca-eaf2-66084469e44f"
      },
      "execution_count": null,
      "outputs": [
        {
          "output_type": "stream",
          "name": "stdout",
          "text": [
            "Naive Bayes ile Hashing Vectors Doğruluk Oranı: 0.6480125138019874\n"
          ]
        }
      ]
    },
    {
      "cell_type": "code",
      "source": [
        "#Naive Bayes ile\n",
        "nb = naive_bayes.MultinomialNB()\n",
        "nb_model = nb.fit(x_train_countVector, train_y)\n",
        "accuracy = model_selection.cross_val_score(nb_model, x_test_countVektor, test_y, cv=10).mean()\n",
        "print(\"Naive Bayes ile Count Vectors Doğruluk Oranı:\", accuracy)\n",
        "nb = naive_bayes.MultinomialNB()\n",
        "nb_model = nb.fit(x_train_tfIdf1WordVector, train_y)\n",
        "accuracy = model_selection.cross_val_score(nb_model, x_test_tfIdf1WordVector, test_y, cv=10).mean()\n",
        "print(\"Naive Bayes ile Word-Level TF-IDF Doğruluk Oranı:\", accuracy)\n",
        "nb = naive_bayes.MultinomialNB()\n",
        "nb_model = nb.fit(x_train_tfIdf2NgramVector, train_y)\n",
        "accuracy = model_selection.cross_val_score(nb_model, x_test_tfIdf2NgramVector, test_y, cv=10).mean()\n",
        "print(\"Naive Bayes ile N-Gram TF-IDF Doğruluk Oranı:\", accuracy)\n",
        "nb = naive_bayes.MultinomialNB()\n",
        "nb_model = nb.fit(x_train_tfIdf3CharVector, train_y)\n",
        "accuracy = model_selection.cross_val_score(nb_model, x_test_tfIdf3CharVector, test_y, cv=10).mean()\n",
        "print(\"Naive Bayes ile Char-Level TF-IDF Doğruluk Oranı:\", accuracy)\n"
      ],
      "metadata": {
        "id": "dSeaMFkizZv8",
        "colab": {
          "base_uri": "https://localhost:8080/"
        },
        "outputId": "3bcb042d-8be3-4087-cd00-ed7ff8af2f98"
      },
      "execution_count": null,
      "outputs": [
        {
          "output_type": "stream",
          "name": "stdout",
          "text": [
            "Naive Bayes ile Count Vectors Doğruluk Oranı: 0.6721469758311864\n",
            "Naive Bayes ile Word-Level TF-IDF Doğruluk Oranı: 0.6564065758802602\n",
            "Naive Bayes ile N-Gram TF-IDF Doğruluk Oranı: 0.5510967979389031\n",
            "Naive Bayes ile Char-Level TF-IDF Doğruluk Oranı: 0.6270224512329775\n"
          ]
        }
      ]
    },
    {
      "cell_type": "code",
      "source": [
        "nb = naive_bayes.MultinomialNB()\n",
        "nb_model = nb.fit(x_train_HashingVector, train_y)\n",
        "accuracy = model_selection.cross_val_score(nb_model, x_test_HashingVector, test_y, cv=10).mean()\n",
        "print(\"Naive Bayes ile Hashing Vectors Doğruluk Oranı:\", accuracy)"
      ],
      "metadata": {
        "colab": {
          "base_uri": "https://localhost:8080/"
        },
        "id": "EsGM5fGacUMZ",
        "outputId": "707c3332-5823-48d0-b054-e44d68f043e4"
      },
      "execution_count": null,
      "outputs": [
        {
          "output_type": "stream",
          "name": "stdout",
          "text": [
            "Naive Bayes ile Hashing Vectors Doğruluk Oranı: 0.6550116550116549\n"
          ]
        }
      ]
    },
    {
      "cell_type": "code",
      "source": [
        "#Random Forest ile\n",
        "rf = ensemble.RandomForestClassifier()\n",
        "rf_model = rf.fit(x_train_countVector, train_y)\n",
        "accuracy = model_selection.cross_val_score(rf_model, x_test_countVektor, test_y, cv=10).mean()\n",
        "print(\"Random Forest ile Count Vectors Doğruluk Oranı:\", accuracy)\n",
        "rf = ensemble.RandomForestClassifier()\n",
        "rf_model = rf.fit(x_train_tfIdf1WordVector, train_y)\n",
        "accuracy = model_selection.cross_val_score(rf_model, x_test_tfIdf1WordVector, test_y, cv=10).mean()\n",
        "print(\"Random Forest ile Word-Level TF-IDF Doğruluk Oranı:\", accuracy)\n",
        "rf = ensemble.RandomForestClassifier()\n",
        "rf_model = loj.fit(x_train_tfIdf2NgramVector, train_y)\n",
        "accuracy = model_selection.cross_val_score(rf_model, x_test_tfIdf2NgramVector, test_y, cv=10).mean()\n",
        "print(\"Random Forest ile N-Gram TF-IDF Doğruluk Oranı:\", accuracy)\n",
        "rf = ensemble.RandomForestClassifier()\n",
        "rf_model = loj.fit(x_train_tfIdf3CharVector, train_y)\n",
        "accuracy = model_selection.cross_val_score(rf_model, x_test_tfIdf3CharVector, test_y, cv=10).mean()\n",
        "print(\"Random Forest ile Char-Level TF-IDF Doğruluk Oranı:\", accuracy)\n"
      ],
      "metadata": {
        "id": "vuoPN3zUzcMi",
        "colab": {
          "base_uri": "https://localhost:8080/"
        },
        "outputId": "c917d403-4bf3-41f0-fd34-7b7d3b06412a"
      },
      "execution_count": null,
      "outputs": [
        {
          "output_type": "stream",
          "name": "stdout",
          "text": [
            "Random Forest ile Count Vectors Doğruluk Oranı: 0.6329665071770335\n",
            "Random Forest ile Word-Level TF-IDF Doğruluk Oranı: 0.6455674150410993\n",
            "Random Forest ile N-Gram TF-IDF Doğruluk Oranı: 0.5899227088700774\n",
            "Random Forest ile Char-Level TF-IDF Doğruluk Oranı: 0.6700576616366091\n"
          ]
        }
      ]
    },
    {
      "cell_type": "code",
      "source": [
        "rf = ensemble.RandomForestClassifier()\n",
        "rf_model = loj.fit(x_train_HashingVector, train_y)\n",
        "accuracy = model_selection.cross_val_score(rf_model, x_test_HashingVector, test_y, cv=10).mean()\n",
        "print(\"Random Forest ile Hashing vectors Doğruluk Oranı:\", accuracy)\n"
      ],
      "metadata": {
        "colab": {
          "base_uri": "https://localhost:8080/"
        },
        "id": "eaVsfgLDcVKm",
        "outputId": "c8cf2108-1166-414f-893e-0a99270cdc01"
      },
      "execution_count": null,
      "outputs": [
        {
          "output_type": "stream",
          "name": "stdout",
          "text": [
            "Random Forest ile Hashing vectors Doğruluk Oranı: 0.6480125138019874\n"
          ]
        }
      ]
    },
    {
      "cell_type": "code",
      "source": [
        "from sklearn.tree import DecisionTreeClassifier\n",
        "dt = DecisionTreeClassifier()\n",
        "\n",
        "dt_model = dt.fit(x_train_countVector, train_y)\n",
        "accuracy = model_selection.cross_val_score(dt_model, x_test_countVektor, test_y, cv=10).mean()\n",
        "print(\"Random Forest ile Count Vectors Doğruluk Oranı:\", accuracy)\n",
        "dt = ensemble.RandomForestClassifier()\n",
        "dt_model = dt.fit(x_train_tfIdf1WordVector, train_y)\n",
        "accuracy = model_selection.cross_val_score(dt_model, x_test_tfIdf1WordVector, test_y, cv=10).mean()\n",
        "print(\"Random Forest ile Word-Level TF-IDF Doğruluk Oranı:\", accuracy)\n",
        "dt = ensemble.RandomForestClassifier()\n",
        "dt_model = dt.fit(x_train_tfIdf2NgramVector, train_y)\n",
        "accuracy = model_selection.cross_val_score(dt_model, x_test_tfIdf2NgramVector, test_y, cv=10).mean()\n",
        "print(\"Random Forest ile N-Gram TF-IDF Doğruluk Oranı:\", accuracy)\n",
        "dt = ensemble.RandomForestClassifier()\n",
        "dt_model = dt.fit(x_train_tfIdf3CharVector, train_y)\n",
        "accuracy = model_selection.cross_val_score(dt_model, x_test_tfIdf3CharVector, test_y, cv=10).mean()\n",
        "print(\"Random Forest ile Char-Level TF-IDF Doğruluk Oranı:\", accuracy)"
      ],
      "metadata": {
        "colab": {
          "base_uri": "https://localhost:8080/"
        },
        "id": "sfoTdMqDAP67",
        "outputId": "fc574d29-94bf-4f76-a719-ba51f92b5ec8"
      },
      "execution_count": null,
      "outputs": [
        {
          "output_type": "stream",
          "name": "stdout",
          "text": [
            "Random Forest ile Count Vectors Doğruluk Oranı: 0.5549552202183781\n",
            "Random Forest ile Word-Level TF-IDF Doğruluk Oranı: 0.6385560053981106\n",
            "Random Forest ile N-Gram TF-IDF Doğruluk Oranı: 0.5745344129554656\n",
            "Random Forest ile Char-Level TF-IDF Doğruluk Oranı: 0.6315629984051037\n"
          ]
        }
      ]
    },
    {
      "cell_type": "code",
      "source": [
        "dt = ensemble.RandomForestClassifier()\n",
        "dt_model = dt.fit(x_train_HashingVector, train_y)\n",
        "accuracy = model_selection.cross_val_score(dt_model, x_test_HashingVector, test_y, cv=10).mean()\n",
        "print(\"DecisionTreeClassifier ile Hashing Vectors Doğruluk Oranı:\", accuracy)"
      ],
      "metadata": {
        "colab": {
          "base_uri": "https://localhost:8080/"
        },
        "id": "9KX5hoC9cXPu",
        "outputId": "c6b745dd-69cb-4cf6-e48a-8c12913c0896"
      },
      "execution_count": null,
      "outputs": [
        {
          "output_type": "stream",
          "name": "stdout",
          "text": [
            "DecisionTreeClassifier ile Hashing Vectors Doğruluk Oranı: 0.6312231628021101\n"
          ]
        }
      ]
    },
    {
      "cell_type": "code",
      "source": [
        "#training SVM model with linear kernel\n",
        "#Support Vector Classification-wrapper around SVM\n",
        "from sklearn.svm import SVC\n",
        "svm = SVC(kernel='linear', random_state = 10)\n",
        "svm_model = svm.fit(x_train_countVector, train_y)\n",
        "accuracy = model_selection.cross_val_score(svm_model, x_test_countVektor, test_y, cv=10).mean()\n",
        "print(\"Random Forest ile Count Vectors Doğruluk Oranı:\", accuracy)\n",
        "svm = ensemble.RandomForestClassifier()\n",
        "svm_model = svm.fit(x_train_tfIdf1WordVector, train_y)\n",
        "accuracy = model_selection.cross_val_score(svm_model, x_test_tfIdf1WordVector, test_y, cv=10).mean()\n",
        "print(\"Random Forest ile Word-Level TF-IDF Doğruluk Oranı:\", accuracy)\n",
        "svm = ensemble.RandomForestClassifier()\n",
        "svm_model = svm.fit(x_train_tfIdf2NgramVector, train_y)\n",
        "accuracy = model_selection.cross_val_score(svm_model, x_test_tfIdf2NgramVector, test_y, cv=10).mean()\n",
        "print(\"Random Forest ile N-Gram TF-IDF Doğruluk Oranı:\", accuracy)\n",
        "svm = ensemble.RandomForestClassifier()\n",
        "svm_model = svm.fit(x_train_tfIdf3CharVector, train_y)\n",
        "accuracy = model_selection.cross_val_score(svm_model, x_test_tfIdf3CharVector, test_y, cv=10).mean()\n",
        "print(\"Random Forest ile Char-Level TF-IDF Doğruluk Oranı:\", accuracy)\n"
      ],
      "metadata": {
        "colab": {
          "base_uri": "https://localhost:8080/"
        },
        "id": "LsuwB3hxFrdq",
        "outputId": "4a20d034-a5f7-4394-9d4f-0e0dafa51384"
      },
      "execution_count": null,
      "outputs": [
        {
          "output_type": "stream",
          "name": "stdout",
          "text": [
            "Random Forest ile Count Vectors Doğruluk Oranı: 0.6273855968592811\n",
            "Random Forest ile Word-Level TF-IDF Doğruluk Oranı: 0.6389179241810822\n",
            "Random Forest ile N-Gram TF-IDF Doğruluk Oranı: 0.5790847748742485\n",
            "Random Forest ile Char-Level TF-IDF Doğruluk Oranı: 0.635761256287572\n"
          ]
        }
      ]
    },
    {
      "cell_type": "code",
      "source": [
        "from sklearn.svm import SVC\n",
        "svm = SVC(kernel='linear', random_state = 10)\n",
        "svm_model = svm.fit(x_train_HashingVector, train_y)\n",
        "accuracy = model_selection.cross_val_score(svm_model, x_test_HashingVector, test_y, cv=10).mean()\n",
        "print(\"svm ile Hashing Vectors Doğruluk Oranı:\", accuracy)\n"
      ],
      "metadata": {
        "colab": {
          "base_uri": "https://localhost:8080/"
        },
        "id": "djScJzvHcZB8",
        "outputId": "2eedd826-7167-4af2-a080-8c384b21a198"
      },
      "execution_count": null,
      "outputs": [
        {
          "output_type": "stream",
          "name": "stdout",
          "text": [
            "svm ile Hashing Vectors Doğruluk Oranı: 0.6154790823211875\n"
          ]
        }
      ]
    }
  ]
}